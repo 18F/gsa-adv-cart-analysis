{
 "cells": [
  {
   "cell_type": "code",
   "execution_count": 46,
   "metadata": {},
   "outputs": [],
   "source": [
    "import pandas as pd\n",
    "import numpy as np\n",
    "import csv"
   ]
  },
  {
   "cell_type": "code",
   "execution_count": 47,
   "metadata": {},
   "outputs": [],
   "source": [
    "# Load data from CSVs\n",
    "\n",
    "# for whatever reason, 'latin-1' needs to be used as the encoding on these files,\n",
    "# otherwise a Unicode error is thrown\n",
    "default_encoding = 'latin-1'\n",
    "\n",
    "PARKED_CARTS_DF = pd.read_csv('data/18f_parked_carts.csv', encoding=default_encoding)\n",
    "PARKED_ITEMS_DF = pd.read_csv('data/18f_parked_items.csv', encoding=default_encoding)\n",
    "CHECKOUTS_DF = pd.read_csv('data/18f_checkouts.csv', encoding=default_encoding)\n",
    "\n",
    "# TODO: what about 18f_checkout_items2.csv ?\n",
    "CHECKOUT_ITEMS_DF = pd.read_csv('data/18f_checkout_items.csv', encoding=default_encoding)\n"
   ]
  },
  {
   "cell_type": "code",
   "execution_count": 48,
   "metadata": {},
   "outputs": [
    {
     "data": {
      "text/plain": [
       "320747"
      ]
     },
     "execution_count": 48,
     "metadata": {},
     "output_type": "execute_result"
    }
   ],
   "source": [
    "# Total number of parked items\n",
    "len(PARKED_ITEMS_DF)"
   ]
  },
  {
   "cell_type": "code",
   "execution_count": 49,
   "metadata": {},
   "outputs": [
    {
     "data": {
      "text/plain": [
       "419671"
      ]
     },
     "execution_count": 49,
     "metadata": {},
     "output_type": "execute_result"
    }
   ],
   "source": [
    "# Total number of checkout items\n",
    "len(CHECKOUT_ITEMS_DF)"
   ]
  },
  {
   "cell_type": "code",
   "execution_count": 50,
   "metadata": {},
   "outputs": [
    {
     "data": {
      "text/plain": [
       "['sessionid',\n",
       " 'user_name',\n",
       " 'action_time',\n",
       " 'agency',\n",
       " 'event_type',\n",
       " 'order_session_number',\n",
       " 'bpa_number',\n",
       " 'ct',\n",
       " 'mfr',\n",
       " 'part',\n",
       " 'product_name',\n",
       " 'search_query',\n",
       " 'unit_price',\n",
       " 'quantity',\n",
       " 'uom',\n",
       " 'payment_type']"
      ]
     },
     "execution_count": 50,
     "metadata": {},
     "output_type": "execute_result"
    }
   ],
   "source": [
    "# Display the columns in CHECKOUT_ITEMS_DF\n",
    "list(CHECKOUT_ITEMS_DF)"
   ]
  },
  {
   "cell_type": "code",
   "execution_count": 51,
   "metadata": {},
   "outputs": [
    {
     "data": {
      "text/plain": [
       "['park_cart_id',\n",
       " 'bpa_number',\n",
       " 'ct',\n",
       " 'event_type',\n",
       " 'mfr',\n",
       " 'part',\n",
       " 'product_name',\n",
       " 'search_query',\n",
       " 'unit_price',\n",
       " 'quantity',\n",
       " 'uom']"
      ]
     },
     "execution_count": 51,
     "metadata": {},
     "output_type": "execute_result"
    }
   ],
   "source": [
    "# Display the columns in PARKED_ITEMS_DF\n",
    "list(PARKED_ITEMS_DF)"
   ]
  },
  {
   "cell_type": "code",
   "execution_count": 52,
   "metadata": {},
   "outputs": [
    {
     "data": {
      "text/plain": [
       "220649"
      ]
     },
     "execution_count": 52,
     "metadata": {},
     "output_type": "execute_result"
    }
   ],
   "source": [
    "# How many items were purchased from a direct link or browse, ie, an empty `search_query` field?\n",
    "checkout_items_without_search_query = CHECKOUT_ITEMS_DF[CHECKOUT_ITEMS_DF['search_query'].isnull()]\n",
    "len(checkout_items_without_search_query)"
   ]
  },
  {
   "cell_type": "code",
   "execution_count": 53,
   "metadata": {},
   "outputs": [
    {
     "name": "stdout",
     "output_type": "stream",
     "text": [
      "52.58%\n"
     ]
    }
   ],
   "source": [
    "# ...as a percentage\n",
    "print(\"{0:.2f}%\".format(len(checkout_items_without_search_query) / len(CHECKOUT_ITEMS_DF) * 100.0))"
   ]
  },
  {
   "cell_type": "code",
   "execution_count": 60,
   "metadata": {},
   "outputs": [],
   "source": [
    "# Annotate item dataframes with \"real\" Python `list` of search terms\n",
    "\n",
    "def search_query_to_list(val):\n",
    "    # val is a string that looks like:\n",
    "    # \"['K40', 'CONTACT', 'POSITIONER']\"\n",
    "    #\n",
    "    # Each val starts and ends with '[' and ']',\n",
    "    # so strip those off\n",
    "    if pd.isnull(val):\n",
    "        # return NaN for empty cell valus\n",
    "        return np.nan\n",
    "    val = val[1:len(val)-1]\n",
    "    x = csv.reader([val], quotechar=\"'\", skipinitialspace=True)\n",
    "    return list(x)[0]\n",
    "\n",
    "def annotate_with_search_query_list(df):\n",
    "    df['_search_query_list'] = df['search_query'].apply(search_query_to_list)\n",
    "\n",
    "\n",
    "annotate_with_search_query_list(PARKED_ITEMS_DF)\n",
    "annotate_with_search_query_list(CHECKOUT_ITEMS_DF)"
   ]
  },
  {
   "cell_type": "code",
   "execution_count": 55,
   "metadata": {},
   "outputs": [],
   "source": [
    "# TODO: Find repeated search terms\n",
    "\n",
    "# ...for checkout items\n",
    "\n",
    "\n",
    "# ...for parked items"
   ]
  },
  {
   "cell_type": "code",
   "execution_count": 56,
   "metadata": {},
   "outputs": [],
   "source": [
    "# TODO: What's the average price of sold items?\n"
   ]
  },
  {
   "cell_type": "code",
   "execution_count": 57,
   "metadata": {},
   "outputs": [],
   "source": [
    "# TODO: What's the average price of parked items?\n"
   ]
  },
  {
   "cell_type": "code",
   "execution_count": null,
   "metadata": {},
   "outputs": [],
   "source": []
  }
 ],
 "metadata": {
  "kernelspec": {
   "display_name": "Python 3",
   "language": "python",
   "name": "python3"
  },
  "language_info": {
   "codemirror_mode": {
    "name": "ipython",
    "version": 3
   },
   "file_extension": ".py",
   "mimetype": "text/x-python",
   "name": "python",
   "nbconvert_exporter": "python",
   "pygments_lexer": "ipython3",
   "version": "3.6.4"
  }
 },
 "nbformat": 4,
 "nbformat_minor": 2
}
