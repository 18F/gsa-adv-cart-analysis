{
 "cells": [
  {
   "cell_type": "code",
   "execution_count": 46,
   "metadata": {},
   "outputs": [],
   "source": [
    "import pandas as pd\n",
    "import numpy as np\n",
    "import csv"
   ]
  },
  {
   "cell_type": "code",
   "execution_count": 47,
   "metadata": {},
   "outputs": [],
   "source": [
    "# Load data from CSVs\n",
    "\n",
    "# for whatever reason, 'latin-1' needs to be used as the encoding on these files,\n",
    "# otherwise a Unicode error is thrown\n",
    "default_encoding = 'latin-1'\n",
    "\n",
    "PARKED_CARTS_DF = pd.read_csv('data/18f_parked_carts.csv', encoding=default_encoding)\n",
    "PARKED_ITEMS_DF = pd.read_csv('data/18f_parked_items.csv', encoding=default_encoding)\n",
    "CHECKOUTS_DF = pd.read_csv('data/18f_checkouts.csv', encoding=default_encoding)\n",
    "\n",
    "# TODO: what about 18f_checkout_items2.csv ?\n",
    "CHECKOUT_ITEMS_DF = pd.read_csv('data/18f_checkout_items.csv', encoding=default_encoding)\n"
   ]
  },
  {
   "cell_type": "code",
   "execution_count": 48,
   "metadata": {},
   "outputs": [
    {
     "data": {
      "text/plain": [
       "320747"
      ]
     },
     "execution_count": 48,
     "metadata": {},
     "output_type": "execute_result"
    }
   ],
   "source": [
    "# Total number of parked items\n",
    "len(PARKED_ITEMS_DF)"
   ]
  },
  {
   "cell_type": "code",
   "execution_count": 49,
   "metadata": {},
   "outputs": [
    {
     "data": {
      "text/plain": [
       "419671"
      ]
     },
     "execution_count": 49,
     "metadata": {},
     "output_type": "execute_result"
    }
   ],
   "source": [
    "# Total number of checkout items\n",
    "len(CHECKOUT_ITEMS_DF)"
   ]
  },
  {
   "cell_type": "code",
   "execution_count": 50,
   "metadata": {},
   "outputs": [
    {
     "data": {
      "text/plain": [
       "['sessionid',\n",
       " 'user_name',\n",
       " 'action_time',\n",
       " 'agency',\n",
       " 'event_type',\n",
       " 'order_session_number',\n",
       " 'bpa_number',\n",
       " 'ct',\n",
       " 'mfr',\n",
       " 'part',\n",
       " 'product_name',\n",
       " 'search_query',\n",
       " 'unit_price',\n",
       " 'quantity',\n",
       " 'uom',\n",
       " 'payment_type']"
      ]
     },
     "execution_count": 50,
     "metadata": {},
     "output_type": "execute_result"
    }
   ],
   "source": [
    "# Display the columns in CHECKOUT_ITEMS_DF\n",
    "list(CHECKOUT_ITEMS_DF)"
   ]
  },
  {
   "cell_type": "code",
   "execution_count": 51,
   "metadata": {},
   "outputs": [
    {
     "data": {
      "text/plain": [
       "['park_cart_id',\n",
       " 'bpa_number',\n",
       " 'ct',\n",
       " 'event_type',\n",
       " 'mfr',\n",
       " 'part',\n",
       " 'product_name',\n",
       " 'search_query',\n",
       " 'unit_price',\n",
       " 'quantity',\n",
       " 'uom']"
      ]
     },
     "execution_count": 51,
     "metadata": {},
     "output_type": "execute_result"
    }
   ],
   "source": [
    "# Display the columns in PARKED_ITEMS_DF\n",
    "list(PARKED_ITEMS_DF)"
   ]
  },
  {
   "cell_type": "code",
   "execution_count": 52,
   "metadata": {},
   "outputs": [
    {
     "data": {
      "text/plain": [
       "220649"
      ]
     },
     "execution_count": 52,
     "metadata": {},
     "output_type": "execute_result"
    }
   ],
   "source": [
    "# How many items were purchased from a direct link or browse, ie, an empty `search_query` field?\n",
    "checkout_items_without_search_query = CHECKOUT_ITEMS_DF[CHECKOUT_ITEMS_DF['search_query'].isnull()]\n",
    "len(checkout_items_without_search_query)"
   ]
  },
  {
   "cell_type": "code",
   "execution_count": 53,
   "metadata": {},
   "outputs": [
    {
     "name": "stdout",
     "output_type": "stream",
     "text": [
      "52.58%\n"
     ]
    }
   ],
   "source": [
    "# ...as a percentage\n",
    "print(\"{0:.2f}%\".format(len(checkout_items_without_search_query) / len(CHECKOUT_ITEMS_DF) * 100.0))"
   ]
  },
  {
   "cell_type": "code",
   "execution_count": 71,
   "metadata": {},
   "outputs": [],
   "source": [
    "# Annotate item dataframes with a list of search terms for each row\n",
    "\n",
    "def search_query_to_list(val):\n",
    "    # val is a string that looks like:\n",
    "    # \"['K40', 'CONTACT', 'POSITIONER']\"\n",
    "    #\n",
    "    # Each val starts and ends with '[' and ']',\n",
    "    # so strip those off\n",
    "    if pd.isnull(val):\n",
    "        # return empty list for empty cell valus\n",
    "        return []\n",
    "    val = val[1:len(val)-1]\n",
    "    reader = csv.reader([val], quotechar=\"'\", skipinitialspace=True)\n",
    "    terms = list(reader)[0]\n",
    "    return [t.strip() for t in terms]\n",
    "\n",
    "def annotate_with_search_query_list(df):\n",
    "    df['_search_query_list'] = df['search_query'].apply(search_query_to_list)\n",
    "\n",
    "\n",
    "annotate_with_search_query_list(PARKED_ITEMS_DF)\n",
    "annotate_with_search_query_list(CHECKOUT_ITEMS_DF)"
   ]
  },
  {
   "cell_type": "code",
   "execution_count": 96,
   "metadata": {},
   "outputs": [
    {
     "data": {
      "text/html": [
       "<div>\n",
       "<style scoped>\n",
       "    .dataframe tbody tr th:only-of-type {\n",
       "        vertical-align: middle;\n",
       "    }\n",
       "\n",
       "    .dataframe tbody tr th {\n",
       "        vertical-align: top;\n",
       "    }\n",
       "\n",
       "    .dataframe thead th {\n",
       "        text-align: right;\n",
       "    }\n",
       "</style>\n",
       "<table border=\"1\" class=\"dataframe\">\n",
       "  <thead>\n",
       "    <tr style=\"text-align: right;\">\n",
       "      <th></th>\n",
       "      <th>term</th>\n",
       "      <th>count</th>\n",
       "    </tr>\n",
       "  </thead>\n",
       "  <tbody>\n",
       "    <tr>\n",
       "      <th>584</th>\n",
       "      <td>gsa copier paper hammermill</td>\n",
       "      <td>428</td>\n",
       "    </tr>\n",
       "    <tr>\n",
       "      <th>585</th>\n",
       "      <td>gsa print paper</td>\n",
       "      <td>428</td>\n",
       "    </tr>\n",
       "    <tr>\n",
       "      <th>269</th>\n",
       "      <td>varidesk</td>\n",
       "      <td>403</td>\n",
       "    </tr>\n",
       "    <tr>\n",
       "      <th>1884</th>\n",
       "      <td>aa batteries</td>\n",
       "      <td>289</td>\n",
       "    </tr>\n",
       "    <tr>\n",
       "      <th>338</th>\n",
       "      <td>7510-01-545-3763</td>\n",
       "      <td>287</td>\n",
       "    </tr>\n",
       "    <tr>\n",
       "      <th>577</th>\n",
       "      <td>7510-01-545-3753</td>\n",
       "      <td>262</td>\n",
       "    </tr>\n",
       "    <tr>\n",
       "      <th>227</th>\n",
       "      <td>7510015453763</td>\n",
       "      <td>249</td>\n",
       "    </tr>\n",
       "    <tr>\n",
       "      <th>4122</th>\n",
       "      <td>pens</td>\n",
       "      <td>240</td>\n",
       "    </tr>\n",
       "    <tr>\n",
       "      <th>2737</th>\n",
       "      <td>copy paper</td>\n",
       "      <td>234</td>\n",
       "    </tr>\n",
       "    <tr>\n",
       "      <th>1235</th>\n",
       "      <td>ham86700</td>\n",
       "      <td>234</td>\n",
       "    </tr>\n",
       "    <tr>\n",
       "      <th>223</th>\n",
       "      <td>7510015453753</td>\n",
       "      <td>223</td>\n",
       "    </tr>\n",
       "    <tr>\n",
       "      <th>2096</th>\n",
       "      <td>aaa batteries</td>\n",
       "      <td>186</td>\n",
       "    </tr>\n",
       "    <tr>\n",
       "      <th>228</th>\n",
       "      <td>7530015453717</td>\n",
       "      <td>181</td>\n",
       "    </tr>\n",
       "    <tr>\n",
       "      <th>1697</th>\n",
       "      <td>7530-01-545-3717</td>\n",
       "      <td>179</td>\n",
       "    </tr>\n",
       "    <tr>\n",
       "      <th>2676</th>\n",
       "      <td>correction tape</td>\n",
       "      <td>166</td>\n",
       "    </tr>\n",
       "    <tr>\n",
       "      <th>674</th>\n",
       "      <td>scissors</td>\n",
       "      <td>164</td>\n",
       "    </tr>\n",
       "    <tr>\n",
       "      <th>1060</th>\n",
       "      <td>7530002223521</td>\n",
       "      <td>164</td>\n",
       "    </tr>\n",
       "    <tr>\n",
       "      <th>3427</th>\n",
       "      <td>highlighters</td>\n",
       "      <td>163</td>\n",
       "    </tr>\n",
       "    <tr>\n",
       "      <th>870</th>\n",
       "      <td>paper</td>\n",
       "      <td>143</td>\n",
       "    </tr>\n",
       "    <tr>\n",
       "      <th>13905</th>\n",
       "      <td>post it notes</td>\n",
       "      <td>130</td>\n",
       "    </tr>\n",
       "  </tbody>\n",
       "</table>\n",
       "</div>"
      ],
      "text/plain": [
       "                              term  count\n",
       "584    gsa copier paper hammermill    428\n",
       "585                gsa print paper    428\n",
       "269                       varidesk    403\n",
       "1884                  aa batteries    289\n",
       "338               7510-01-545-3763    287\n",
       "577               7510-01-545-3753    262\n",
       "227                  7510015453763    249\n",
       "4122                          pens    240\n",
       "2737                    copy paper    234\n",
       "1235                      ham86700    234\n",
       "223                  7510015453753    223\n",
       "2096                 aaa batteries    186\n",
       "228                  7530015453717    181\n",
       "1697              7530-01-545-3717    179\n",
       "2676               correction tape    166\n",
       "674                       scissors    164\n",
       "1060                 7530002223521    164\n",
       "3427                  highlighters    163\n",
       "870                          paper    143\n",
       "13905                post it notes    130"
      ]
     },
     "execution_count": 96,
     "metadata": {},
     "output_type": "execute_result"
    }
   ],
   "source": [
    "# Find repeated search terms\n",
    "\n",
    "def search_term_counts(df):\n",
    "    term_counts = dict()\n",
    "    for term_list in df['_search_query_list']:\n",
    "        for term in term_list:\n",
    "            term = term.lower()\n",
    "            if term in term_counts:\n",
    "                term_counts[term] += 1\n",
    "            else:\n",
    "                term_counts[term] = 1\n",
    "    return pd.DataFrame(list(term_counts.items()), columns=['term', 'count'])         \n",
    "\n",
    "# Get search term counts for checkout items\n",
    "checkout_item_search_term_counts = search_term_counts(CHECKOUT_ITEMS_DF)\n",
    "\n",
    "# Display the top 20 search terms of checkout item search terms\n",
    "checkout_item_search_term_counts.sort_values(by=['count'], ascending=False)[:20]"
   ]
  },
  {
   "cell_type": "code",
   "execution_count": 95,
   "metadata": {},
   "outputs": [
    {
     "data": {
      "text/html": [
       "<div>\n",
       "<style scoped>\n",
       "    .dataframe tbody tr th:only-of-type {\n",
       "        vertical-align: middle;\n",
       "    }\n",
       "\n",
       "    .dataframe tbody tr th {\n",
       "        vertical-align: top;\n",
       "    }\n",
       "\n",
       "    .dataframe thead th {\n",
       "        text-align: right;\n",
       "    }\n",
       "</style>\n",
       "<table border=\"1\" class=\"dataframe\">\n",
       "  <thead>\n",
       "    <tr style=\"text-align: right;\">\n",
       "      <th></th>\n",
       "      <th>term</th>\n",
       "      <th>count</th>\n",
       "    </tr>\n",
       "  </thead>\n",
       "  <tbody>\n",
       "    <tr>\n",
       "      <th>701</th>\n",
       "      <td>aa batteries</td>\n",
       "      <td>326</td>\n",
       "    </tr>\n",
       "    <tr>\n",
       "      <th>1599</th>\n",
       "      <td>7510-01-545-3763</td>\n",
       "      <td>320</td>\n",
       "    </tr>\n",
       "    <tr>\n",
       "      <th>783</th>\n",
       "      <td>7510-01-545-3753</td>\n",
       "      <td>301</td>\n",
       "    </tr>\n",
       "    <tr>\n",
       "      <th>624</th>\n",
       "      <td>scissors</td>\n",
       "      <td>286</td>\n",
       "    </tr>\n",
       "    <tr>\n",
       "      <th>35</th>\n",
       "      <td>pens</td>\n",
       "      <td>285</td>\n",
       "    </tr>\n",
       "    <tr>\n",
       "      <th>403</th>\n",
       "      <td>aaa batteries</td>\n",
       "      <td>269</td>\n",
       "    </tr>\n",
       "    <tr>\n",
       "      <th>394</th>\n",
       "      <td>stapler</td>\n",
       "      <td>261</td>\n",
       "    </tr>\n",
       "    <tr>\n",
       "      <th>122</th>\n",
       "      <td>highlighters</td>\n",
       "      <td>258</td>\n",
       "    </tr>\n",
       "    <tr>\n",
       "      <th>238</th>\n",
       "      <td>7510015453763</td>\n",
       "      <td>246</td>\n",
       "    </tr>\n",
       "    <tr>\n",
       "      <th>778</th>\n",
       "      <td>black</td>\n",
       "      <td>245</td>\n",
       "    </tr>\n",
       "    <tr>\n",
       "      <th>387</th>\n",
       "      <td>correction tape</td>\n",
       "      <td>231</td>\n",
       "    </tr>\n",
       "    <tr>\n",
       "      <th>1333</th>\n",
       "      <td>copy paper</td>\n",
       "      <td>226</td>\n",
       "    </tr>\n",
       "    <tr>\n",
       "      <th>1470</th>\n",
       "      <td>varidesk</td>\n",
       "      <td>214</td>\n",
       "    </tr>\n",
       "    <tr>\n",
       "      <th>372</th>\n",
       "      <td>7530-01-545-3717</td>\n",
       "      <td>202</td>\n",
       "    </tr>\n",
       "    <tr>\n",
       "      <th>659</th>\n",
       "      <td>dry erase markers</td>\n",
       "      <td>194</td>\n",
       "    </tr>\n",
       "    <tr>\n",
       "      <th>236</th>\n",
       "      <td>7510015453753</td>\n",
       "      <td>194</td>\n",
       "    </tr>\n",
       "    <tr>\n",
       "      <th>220</th>\n",
       "      <td>post it notes</td>\n",
       "      <td>188</td>\n",
       "    </tr>\n",
       "    <tr>\n",
       "      <th>508</th>\n",
       "      <td>post it</td>\n",
       "      <td>181</td>\n",
       "    </tr>\n",
       "    <tr>\n",
       "      <th>1342</th>\n",
       "      <td>staples</td>\n",
       "      <td>178</td>\n",
       "    </tr>\n",
       "    <tr>\n",
       "      <th>4114</th>\n",
       "      <td>2018 calendar</td>\n",
       "      <td>176</td>\n",
       "    </tr>\n",
       "  </tbody>\n",
       "</table>\n",
       "</div>"
      ],
      "text/plain": [
       "                   term  count\n",
       "701        aa batteries    326\n",
       "1599   7510-01-545-3763    320\n",
       "783    7510-01-545-3753    301\n",
       "624            scissors    286\n",
       "35                 pens    285\n",
       "403       aaa batteries    269\n",
       "394             stapler    261\n",
       "122        highlighters    258\n",
       "238       7510015453763    246\n",
       "778               black    245\n",
       "387     correction tape    231\n",
       "1333         copy paper    226\n",
       "1470           varidesk    214\n",
       "372    7530-01-545-3717    202\n",
       "659   dry erase markers    194\n",
       "236       7510015453753    194\n",
       "220       post it notes    188\n",
       "508             post it    181\n",
       "1342            staples    178\n",
       "4114      2018 calendar    176"
      ]
     },
     "execution_count": 95,
     "metadata": {},
     "output_type": "execute_result"
    }
   ],
   "source": [
    "# Get search term counts for parked items\n",
    "parked_item_search_term_counts = search_term_counts(PARKED_ITEMS_DF)\n",
    "\n",
    "# Display the top 20 search terms of checkout item search terms\n",
    "parked_item_search_term_counts.sort_values(by=['count'], ascending=False)[:20]"
   ]
  },
  {
   "cell_type": "code",
   "execution_count": null,
   "metadata": {},
   "outputs": [],
   "source": [
    "# TODO: Instead of using exact queries, what about segmenting by words or lexemes?\n",
    "# ie, finding counts for all terms that are like \"pen\" - \"red pens\", \"ballpoint pens\", \"pen\", etc"
   ]
  },
  {
   "cell_type": "code",
   "execution_count": 56,
   "metadata": {},
   "outputs": [],
   "source": [
    "# TODO: What's the average price of sold items?\n"
   ]
  },
  {
   "cell_type": "code",
   "execution_count": 57,
   "metadata": {},
   "outputs": [],
   "source": [
    "# TODO: What's the average price of parked items?\n"
   ]
  },
  {
   "cell_type": "code",
   "execution_count": null,
   "metadata": {},
   "outputs": [],
   "source": []
  }
 ],
 "metadata": {
  "kernelspec": {
   "display_name": "Python 3",
   "language": "python",
   "name": "python3"
  },
  "language_info": {
   "codemirror_mode": {
    "name": "ipython",
    "version": 3
   },
   "file_extension": ".py",
   "mimetype": "text/x-python",
   "name": "python",
   "nbconvert_exporter": "python",
   "pygments_lexer": "ipython3",
   "version": "3.6.4"
  }
 },
 "nbformat": 4,
 "nbformat_minor": 2
}
